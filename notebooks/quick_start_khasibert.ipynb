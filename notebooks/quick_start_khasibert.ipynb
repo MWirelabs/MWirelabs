{
 "cells": [
  {
   "cell_type": "markdown",
   "metadata": {},
   "source": [
    "# Quick Start — KhasiBERT\n",
    "\n",
    "This notebook demonstrates how to load and run the `MWirelabs/khasibert` model from the Hugging Face Hub.  \n",
    "KhasiBERT is a foundational masked language model (MLM) for Khasi, designed for classification, NER, and fill-mask tasks."
   ]
  },
  {
   "cell_type": "code",
   "execution_count": null,
   "metadata": {},
   "outputs": [],
   "source": [
    "# Run once in a fresh environment (uncomment if needed)\n",
    "# !pip install transformers accelerate --quiet"
   ]
  },
  {
   "cell_type": "code",
   "execution_count": null,
   "metadata": {},
   "outputs": [],
   "source": [
    "from transformers import RobertaForMaskedLM, RobertaTokenizerFast, pipeline\n",
    "\n",
    "# Load model and tokenizer from the Hugging Face Hub\n",
    "model = RobertaForMaskedLM.from_pretrained(\"MWirelabs/khasibert\")\n",
    "tokenizer = RobertaTokenizerFast.from_pretrained(\"MWirelabs/khasibert\")"
   ]
  },
  {
   "cell_type": "code",
   "execution_count": null,
   "metadata": {},
   "outputs": [],
   "source": [
    "# Create a fill-mask pipeline\n",
    "fill = pipeline(\"fill-mask\", model=model, tokenizer=tokenizer)\n",
    "\n",
    "# Example sentence with a <mask> token\n",
    "print(fill(\"Ka Meghalaya ka <mask> ha ka jingpyrkhat jong ki Khasi.\"))"
   ]
  },
  {
   "cell_type": "markdown",
   "metadata": {},
   "source": [
    "**Notes & safety:**\n",
    "- KhasiBERT is a masked LM (not a generative model). It is best used for classification, token-level tasks, or fill-mask.\n",
    "- Respect the model license (CC BY-NC 4.0).\n",
    "- Outputs may vary depending on the input sentence structure and vocabulary coverage."
   ]
  }
 ],
 "metadata": {
  "kernelspec": {
   "display_name": "Python 3",
   "language": "python",
   "name": "python3"
  },
  "language_info": {
   "codemirror_mode": {
    "name": "ipython",
    "version": 3
   },
   "file_extension": ".py",
   "mimetype": "text/x-python",
   "name": "python",
   "nbconvert_exporter": "python",
   "pygments_lexer": "ipython3",
   "version": "3.10"
  }
 },
 "nbformat": 4,
 "nbformat_minor": 5
}
