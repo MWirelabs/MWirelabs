# Quick Start Demo for KhasiBERT

from transformers import RobertaForMaskedLM, RobertaTokenizerFast, pipeline

# Load model and tokenizer from Hugging Face Hub
model = RobertaForMaskedLM.from_pretrained("MWirelabs/khasibert")
tokenizer = RobertaTokenizerFast.from_pretrained("MWirelabs/khasibert")

# Create a fill-mask pipeline
fill = pipeline("fill-mask", model=model, tokenizer=tokenizer)

# Example sentence
print(fill("Ka Meghalaya ka <mask> ha ka jingpyrkhat jong ki Khasi."))
