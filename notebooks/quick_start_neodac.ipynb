{
 "cells": [
  {
   "cell_type": "markdown",
   "metadata": {},
   "source": [
    "# Quick Start — Neodac-mini\n",
    "\n",
    "This notebook demonstrates how to load and run the `MWirelabs/neodac-mini` model from the Hugging Face Hub.  \n",
    "Neodac-mini is a cultural knowledge & QA model for Northeast India (English). This demo uses the `transformers` library."
   ]
  },
  {
   "cell_type": "code",
   "execution_count": null,
   "metadata": {},
   "outputs": [],
   "source": [
    "# Run once in a fresh environment (uncomment if needed)\n",
    "# !pip install transformers accelerate --quiet"
   ]
  },
  {
   "cell_type": "code",
   "execution_count": null,
   "metadata": {},
   "outputs": [],
   "source": [
    "from transformers import AutoTokenizer, AutoModelForCausalLM\n",
    "\n",
    "# Load tokenizer and model from the Hugging Face Hub\n",
    "tokenizer = AutoTokenizer.from_pretrained(\"MWirelabs/neodac-mini\")\n",
    "model = AutoModelForCausalLM.from_pretrained(\"MWirelabs/neodac-mini\")"
   ]
  },
  {
   "cell_type": "code",
   "execution_count": null,
   "metadata": {},
   "outputs": [],
   "source": [
    "prompt = (\n",
    "    \"Tell me about a traditional festival in Nagaland and its cultural significance.\"\n",
    ")\n",
    "inputs = tokenizer(prompt, return_tensors=\"pt\")\n",
    "\n",
    "# Generate (adjust max_length and other options as needed)\n",
    "outputs = model.generate(\n",
    "    inputs.input_ids,\n",
    "    max_length=200,\n",
    "    do_sample=True,\n",
    "    top_k=50,\n",
    "    top_p=0.92,\n",
    "    temperature=0.8\n",
    ")\n",
    "\n",
    "print(tokenizer.decode(outputs[0], skip_special_tokens=True))"
   ]
  },
  {
   "cell_type": "markdown",
   "metadata": {},
   "source": [
    "**Notes & safety:**\n",
    "- This model is trained for cultural knowledge and QA. Always verify factual claims before using outputs in critical contexts.\n",
    "- Respect the model license (Apache-2.0) and any dataset attribution.\n",
    "- For heavy usage, prefer running with `accelerate` or on appropriate hardware."
   ]
  }
 ],
 "metadata": {
  "kernelspec": {
   "display_name": "Python 3",
   "language": "python",
   "name": "python3"
  },
  "language_info": {
   "codemirror_mode": {
    "name": "ipython",
    "version": 3
   },
   "file_extension": ".py",
   "mimetype": "text/x-python",
   "name": "python",
   "nbconvert_exporter": "python",
   "pygments_lexer": "ipython3",
   "version": "3.10"
  }
 },
 "nbformat": 4,
 "nbformat_minor": 5
}
