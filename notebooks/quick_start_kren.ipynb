{
 "cells": [
  {
   "cell_type": "markdown",
   "metadata": {},
   "source": [
    "# Quick Start — Kren v1\n",
    "\n",
    "This notebook demonstrates how to load and run the `MWirelabs/kren-v1` model from the Hugging Face Hub.  \n",
    "Kren v1 is a Khasi generative language model (causal LM) suitable for text generation and experimentation."
   ]
  },
  {
   "cell_type": "code",
   "execution_count": null,
   "metadata": {},
   "outputs": [],
   "source": [
    "# Run once in a fresh environment (uncomment if needed)\n",
    "# !pip install transformers accelerate --quiet"
   ]
  },
  {
   "cell_type": "code",
   "execution_count": null,
   "metadata": {},
   "outputs": [],
   "source": [
    "from transformers import AutoTokenizer, AutoModelForCausalLM\n",
    "\n",
    "# Load tokenizer and model from the Hugging Face Hub\n",
    "tokenizer = AutoTokenizer.from_pretrained(\"MWirelabs/kren-v1\")\n",
    "model = AutoModelForCausalLM.from_pretrained(\"MWirelabs/kren-v1\")"
   ]
  },
  {
   "cell_type": "code",
   "execution_count": null,
   "metadata": {},
   "outputs": [],
   "source": [
    "# Example input text in Khasi\n",
    "inputs = tokenizer(\"Ka Khasi ka\", return_tensors=\"pt\")\n",
    "\n",
    "# Generate text\n",
    "outputs = model.generate(\n",
    "    inputs.input_ids,\n",
    "    max_length=50,\n",
    "    do_sample=True,\n",
    "    top_k=50,\n",
    "    top_p=0.95,\n",
    "    temperature=0.8\n",
    ")\n",
    "\n",
    "print(tokenizer.decode(outputs[0], skip_special_tokens=True))"
   ]
  },
  {
   "cell_type": "markdown",
   "metadata": {},
   "source": [
    "**Notes & safety:**\n",
    "- This model generates Khasi text but may produce nonsensical or biased outputs.\n",
    "- Respect the model license (CC BY-NC 4.0).\n",
    "- For longer generations or controlled sampling, adjust `max_length`, `top_p`, and `temperature`."
   ]
  }
 ],
 "metadata": {
  "kernelspec": {
   "display_name": "Python 3",
   "language": "python",
   "name": "python3"
  },
  "language_info": {
   "codemirror_mode": {
    "name": "ipython",
    "version": 3
   },
   "file_extension": ".py",
   "mimetype": "text/x-python",
   "name": "python",
   "nbconvert_exporter": "python",
   "pygments_lexer": "ipython3",
   "version": "3.10"
  }
 },
 "nbformat": 4,
 "nbformat_minor": 5
}
